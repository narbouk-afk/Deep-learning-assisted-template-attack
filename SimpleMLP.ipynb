{
 "cells": [
  {
   "cell_type": "code",
   "execution_count": null,
   "id": "013661d4",
   "metadata": {},
   "outputs": [],
   "source": [
    "root = r\"C:\\Users\\nampo\\Downloads\"\n",
    "\n",
    "in_file\t = h5py.File(os.path.join(root,\"ascad-variable.h5\"), \"r\")\n",
    "print(in_file.keys())\n",
    "\n",
    "#Load profiling traces\n",
    "X_profiling = np.array(in_file['Profiling_traces/traces'], dtype=np.float64)\n",
    "# Load profiling labels\n",
    "Y_profiling = np.array(in_file['Profiling_traces/labels'], dtype = np.uint8)\n",
    "\n",
    "# Load attacking traces\n",
    "X_attack = np.array(in_file['Attack_traces/traces'], dtype=np.float64)\n",
    "# Load attacking labels\n",
    "Y_attack = np.array(in_file['Attack_traces/labels'], dtype = np.uint8)"
   ]
  },
  {
   "cell_type": "code",
   "execution_count": null,
   "id": "f56dede1",
   "metadata": {},
   "outputs": [],
   "source": [
    "from sklearn.model_selection import train_test_split\n",
    "\n",
    "X_train, X_val, y_train, y_val = train_test_split(X_profiling, Y_profiling, test_size=0.3, random_state=42, shuffle=True)\n",
    "y_train = tf.one_hot(y_train,depth = 256)\n",
    "y_val = tf.one_hot(y_val,depth = 256)"
   ]
  },
  {
   "cell_type": "code",
   "execution_count": null,
   "id": "38948a64",
   "metadata": {},
   "outputs": [],
   "source": [
    "nb_classes = 256\n",
    "input_shape = (None,1400)\n",
    "initializer = tk.initializers.GlorotUniform()\n",
    "MLPmodel = tk.models.Sequential()\n",
    "MLPmodel.add(tkl.Dense(1028, activation=tk.layers.LeakyReLU(alpha=0.3),kernel_initializer=initializer))\n",
    "MLPmodel.add(tkl.Dense(512, activation=tk.layers.LeakyReLU(alpha=0.3),kernel_initializer=initializer))\n",
    "MLPmodel.add(tkl.Dense(nb_classes, activation='softmax',kernel_initializer=initializer))\n",
    "\n",
    "MLPmodel.compile(loss='categorical_crossentropy', optimizer='adam', metrics=['accuracy'])\n",
    "MLPmodel.build(input_shape)\n",
    "print(MLPmodel.summary())\n",
    "MLPhistory = MLPmodel.fit(X_train, y_train, validation_data=(X_val, y_val), epochs=5, batch_size=256, validation_batch_size = 256)    "
   ]
  },
  {
   "cell_type": "code",
   "execution_count": null,
   "id": "0c2888b5",
   "metadata": {},
   "outputs": [],
   "source": [
    "plt.figure()\n",
    "plt.plot(MLPhistory.history['loss'])\n",
    "plt.plot(MLPhistory.history['val_loss'])\n",
    "plt.title(\"model loss\")\n",
    "plt.ylabel('loss')\n",
    "plt.xlabel('epochs')\n",
    "plt.legend(['train', 'test'], loc='upper left')\n",
    "plt.show()"
   ]
  },
  {
   "cell_type": "code",
   "execution_count": null,
   "id": "48aed24e",
   "metadata": {},
   "outputs": [],
   "source": [
    "# summarize history for accuracy\n",
    "plt.plot(MLPhistory.history['categorical_accuracy'])\n",
    "plt.plot(MLPhistory.history['val_categorical_accuracy'])\n",
    "plt.title('model accuracy')\n",
    "plt.ylabel('accuracy')\n",
    "plt.xlabel('epoch')\n",
    "plt.legend(['train', 'test'], loc='upper left')\n",
    "plt.show()"
   ]
  },
  {
   "cell_type": "code",
   "execution_count": null,
   "id": "b9823066",
   "metadata": {},
   "outputs": [],
   "source": [
    "MLPmodel.save(os.path.join(root,\"MLPmodel.h5\"))"
   ]
  },
  {
   "cell_type": "code",
   "execution_count": null,
   "id": "8dbb128e",
   "metadata": {},
   "outputs": [],
   "source": [
    "MLPmodel = tk.models.load_model(os.path.join(root,'MLPmodel.h5'))"
   ]
  },
  {
   "cell_type": "code",
   "execution_count": null,
   "id": "c3d064e3",
   "metadata": {},
   "outputs": [],
   "source": [
    "#Prediction using ranking\n",
    "\n",
    "rank_of_secret_key = []\n",
    "\n",
    "batch_size = 1024\n",
    "attack_dataset = tf.data.Dataset.from_tensor_slices((test_plaintexts, test_traces))\n",
    "attack_dataset = attack_dataset.batch(batch_size)\n",
    "\n",
    "key_probabilities = np.zeros(256)\n",
    "print(len(attack_dataset))\n",
    "for pt, trace in tqdm(attack_dataset, total=len(attack_dataset)):\n",
    "    # Extract the points of interest\n",
    "    #feature_vector = trace[poi_indices]\n",
    "    trace = trace[:,:,np.newaxis]\n",
    "    feature_vector = MLPmodel.predict(trace)\n",
    "    \n",
    "    for i in range(feature_vector.shape[0]):\n",
    "        # Compute the probabilities for each label\n",
    "        label_probabilities = {label: feature_vector[i,label] for label in range(256)}\n",
    "\n",
    "        # Update the key probabilities\n",
    "        for k in range(256):\n",
    "            key_probabilities[k] += label_probabilities[LEAKAGE_MODEL(pt[i], k)]\n",
    "\n",
    "        # Get the rank of the secret key\n",
    "        rank_of_secret_key.append(np.count_nonzero(key_probabilities > key_probabilities[SECRET_KEY]))\n",
    "\n",
    "plt.plot(rank_of_secret_key)\n",
    "plt.title(f\"Rank of the secret key ({SECRET_KEY:#04x})\")\n",
    "plt.show()"
   ]
  },
  {
   "cell_type": "code",
   "execution_count": null,
   "id": "e2ef0fa6",
   "metadata": {},
   "outputs": [],
   "source": [
    "first = np.where(np.array(rank_of_secret_key) == 0)\n",
    "print(first)"
   ]
  },
  {
   "cell_type": "code",
   "execution_count": null,
   "id": "f3f33cae",
   "metadata": {},
   "outputs": [],
   "source": [
    "#print(first[0][0])\n",
    "#plt.plot(rank_of_secret_key[:first[0][0]*2m])\n",
    "plt.plot(rank_of_secret_key)\n",
    "plt.ylabel(\"Rank of true key\")\n",
    "plt.xlabel(\"Number of traces\")\n",
    "plt.title(\"Rank of true secret key using simple MLP\")\n",
    "#plt.scatter(first[0][0],rank_of_secret_key[first[0][0]], c=\"red\")"
   ]
  },
  {
   "attachments": {
    "download.png": {
     "image/png": "[encoded data removed]"
    }
   },
   "cell_type": "markdown",
   "id": "a5328ba3",
   "metadata": {},
   "source": [
    "![download.png](attachment:download.png)"
   ]
  }
 ],
 "metadata": {
  "kernelspec": {
   "display_name": "Python 3 (ipykernel)",
   "language": "python",
   "name": "python3"
  },
  "language_info": {
   "codemirror_mode": {
    "name": "ipython",
    "version": 3
   },
   "file_extension": ".py",
   "mimetype": "text/x-python",
   "name": "python",
   "nbconvert_exporter": "python",
   "pygments_lexer": "ipython3",
   "version": "3.9.7"
  }
 },
 "nbformat": 4,
 "nbformat_minor": 5
}
