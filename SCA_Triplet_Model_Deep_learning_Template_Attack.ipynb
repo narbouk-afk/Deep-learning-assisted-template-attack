{
 "cells": [
  {
   "cell_type": "code",
   "execution_count": 2,
   "metadata": {
    "id": "H95GTJYwLcNe"
   },
   "outputs": [],
   "source": [
    "import os.path\n",
    "import numpy as np\n",
    "import h5py\n",
    "import tensorboard as tensorboard\n",
    "from tensorboard.plugins import projector\n",
    "import tensorflow as tf\n",
    "from datetime import datetime\n",
    "from tqdm import tqdm\n",
    "import leakage_models\n",
    "import pandas as pd\n",
    "import matplotlib.pyplot as plt\n",
    "import tensorflow.keras as tk\n",
    "import tensorflow.keras.layers as tkl\n",
    "from sklearn.model_selection import train_test_split\n",
    "\n",
    "# Choose a leakage model\n",
    "LEAKAGE_MODEL = leakage_models.identity_sbox"
   ]
  },
  {
   "cell_type": "code",
   "execution_count": 3,
   "metadata": {
    "colab": {
     "base_uri": "https://localhost:8080/",
     "height": 550
    },
    "id": "AOzJjHrlLQ8C",
    "outputId": "a2d0e2c4-f26c-4b34-fb51-da9c7a1ad3f1"
   },
   "outputs": [
    {
     "name": "stdout",
     "output_type": "stream",
     "text": [
      "<KeysViewHDF5 ['Attack_traces', 'Profiling_traces']>\n"
     ]
    }
   ],
   "source": [
    "root = r\"C:\\Users\\nampo\\Downloads\"\n",
    "\n",
    "in_file\t = h5py.File(os.path.join(root,\"ascad-variable.h5\"), \"r\")\n",
    "print(in_file.keys())\n",
    "\n",
    "# Load profiling traces\n",
    "X_profiling = np.array(in_file['Profiling_traces/traces'], dtype=np.float64)\n",
    "# Load profiling labels\n",
    "Y_profiling = np.array(in_file['Profiling_traces/labels'], dtype = np.uint8)\n",
    "\n",
    "# Load attacking traces\n",
    "X_attack = np.array(in_file['Attack_traces/traces'], dtype=np.float64)\n",
    "# Load attacking labels\n",
    "Y_attack = np.array(in_file['Attack_traces/labels'], dtype = np.uint8)"
   ]
  },
  {
   "cell_type": "code",
   "execution_count": null,
   "metadata": {
    "colab": {
     "base_uri": "https://localhost:8080/",
     "height": 238
    },
    "id": "9LKAyQZBZjDJ",
    "outputId": "8de144b0-2b62-48ef-9fc3-48ab48ddc462"
   },
   "outputs": [],
   "source": [
    "print(X_profiling.shape)\n",
    "print(X_attack)\n",
    "print(Y_profiling.shape)\n",
    "print(Y_attack)\n",
    "print(min(Y_profiling), max(Y_profiling))\n",
    "print(np.min(X_profiling), np.max(X_profiling))"
   ]
  },
  {
   "cell_type": "code",
   "execution_count": null,
   "metadata": {
    "colab": {
     "base_uri": "https://localhost:8080/",
     "height": 282
    },
    "id": "vTcC3036lmqN",
    "outputId": "8623dfeb-479c-4cec-9508-da4c68288757"
   },
   "outputs": [],
   "source": [
    "plt.plot(X_profiling[0,:])"
   ]
  },
  {
   "cell_type": "code",
   "execution_count": 5,
   "metadata": {},
   "outputs": [
    {
     "name": "stdout",
     "output_type": "stream",
     "text": [
      "140000\n",
      "140000\n"
     ]
    },
    {
     "name": "stderr",
     "output_type": "stream",
     "text": [
      "2023-03-21 13:22:21.036988: E tensorflow/compiler/xla/stream_executor/cuda/cuda_driver.cc:267] failed call to cuInit: CUDA_ERROR_NO_DEVICE: no CUDA-capable device is detected\n",
      "2023-03-21 13:22:21.059582: I tensorflow/compiler/xla/stream_executor/cuda/cuda_diagnostics.cc:156] kernel driver does not appear to be running on this host (gabriel-IdeaPad-L340-17IRH-Gaming): /proc/driver/nvidia/version does not exist\n",
      "2023-03-21 13:22:21.112748: I tensorflow/core/platform/cpu_feature_guard.cc:193] This TensorFlow binary is optimized with oneAPI Deep Neural Network Library (oneDNN) to use the following CPU instructions in performance-critical operations:  AVX2 FMA\n",
      "To enable them in other operations, rebuild TensorFlow with the appropriate compiler flags.\n",
      "2023-03-21 13:22:21.156315: W tensorflow/tsl/framework/cpu_allocator_impl.cc:82] Allocation of 1568000000 exceeds 10% of free system memory.\n",
      "2023-03-21 13:22:36.435810: W tensorflow/tsl/framework/cpu_allocator_impl.cc:82] Allocation of 672000000 exceeds 10% of free system memory.\n"
     ]
    }
   ],
   "source": [
    "from sklearn.model_selection import train_test_split\n",
    "\n",
    "X_train, X_val, y_train, y_val = train_test_split(X_profiling, Y_profiling, test_size=0.3, random_state=42, shuffle=True)\n",
    "\n",
    "batch_size = 4096\n",
    "# Prepare the training dataset.\n",
    "train_dataset = tf.data.Dataset.from_tensor_slices((X_train, y_train))\n",
    "train_dataset = train_dataset.shuffle(buffer_size=1024).batch(batch_size)\n",
    "\n",
    "# Prepare the validation dataset.\n",
    "val_dataset = tf.data.Dataset.from_tensor_slices((X_val, y_val))\n",
    "val_dataset = val_dataset.batch(batch_size)"
   ]
  },
  {
   "cell_type": "code",
   "execution_count": 44,
   "metadata": {},
   "outputs": [
    {
     "name": "stdout",
     "output_type": "stream",
     "text": [
      "Model: \"sequential_11\"\n",
      "_________________________________________________________________\n",
      " Layer (type)                Output Shape              Param #   \n",
      "=================================================================\n",
      " dense_30 (Dense)            (None, 64)                2112      \n",
      "                                                                 \n",
      " leaky_re_lu_4 (LeakyReLU)   (None, 64)                0         \n",
      "                                                                 \n",
      " dense_31 (Dense)            (None, 128)               8320      \n",
      "                                                                 \n",
      " leaky_re_lu_5 (LeakyReLU)   (None, 128)               0         \n",
      "                                                                 \n",
      " dense_32 (Dense)            (None, 256)               33024     \n",
      "                                                                 \n",
      "=================================================================\n",
      "Total params: 43,456\n",
      "Trainable params: 43,456\n",
      "Non-trainable params: 0\n",
      "_________________________________________________________________\n"
     ]
    },
    {
     "name": "stderr",
     "output_type": "stream",
     "text": [
      "/home/gabriel/.local/lib/python3.10/site-packages/keras/initializers/initializers_v2.py:120: UserWarning: The initializer GlorotUniform is unseeded and being called multiple times, which will return identical values  each time (even if the initializer is unseeded). Please update your code to provide a seed to the initializer, or avoid using the same initalizer instance more than once.\n",
      "  warnings.warn(\n"
     ]
    }
   ],
   "source": [
    "#Create a new model that will replace template attack\n",
    "from keras.layers import LeakyReLU\n",
    "nb_classes = 256\n",
    "input_shape = (32)\n",
    "initializer = tk.initializers.GlorotUniform()\n",
    "model = tk.models.Sequential()\n",
    "model.add(tk.Input(shape=input_shape))\n",
    "model.add(tkl.Dense(64, kernel_initializer=initializer))\n",
    "model.add(LeakyReLU(alpha=0.05))\n",
    "model.add(tkl.Dense(128, kernel_initializer=initializer))\n",
    "model.add(LeakyReLU(alpha=0.05))\n",
    "model.add(tkl.Dense(nb_classes, activation='softmax',kernel_initializer=initializer))\n",
    "model.compile(\n",
    "    optimizer=tk.optimizers.Adam(),  # Optimizer\n",
    "    # Loss function to minimize\n",
    "    loss=tk.losses.CategoricalCrossentropy(),\n",
    "    # List of metrics to monitor\n",
    "    metrics=[tk.metrics.CategoricalAccuracy()],\n",
    ")\n",
    "model.summary()"
   ]
  },
  {
   "cell_type": "code",
   "execution_count": 27,
   "metadata": {},
   "outputs": [
    {
     "name": "stdout",
     "output_type": "stream",
     "text": [
      "35\n",
      "0\n",
      "128/128 [==============================] - 2s 12ms/step\n",
      "1\n",
      "128/128 [==============================] - 2s 13ms/step\n",
      "2\n",
      "128/128 [==============================] - 1s 11ms/step\n",
      "3\n",
      "128/128 [==============================] - 2s 13ms/step\n",
      "4\n",
      "128/128 [==============================] - 1s 11ms/step\n",
      "5\n",
      "128/128 [==============================] - 1s 10ms/step\n",
      "6\n",
      "128/128 [==============================] - 2s 13ms/step\n",
      "7\n",
      "128/128 [==============================] - 2s 12ms/step\n",
      "8\n",
      "128/128 [==============================] - 2s 12ms/step\n",
      "9\n",
      "128/128 [==============================] - 1s 11ms/step\n",
      "10\n",
      "128/128 [==============================] - 2s 12ms/step\n",
      "11\n",
      "128/128 [==============================] - 1s 10ms/step\n",
      "12\n",
      "128/128 [==============================] - 1s 10ms/step\n",
      "13\n",
      "128/128 [==============================] - 1s 11ms/step\n",
      "14\n",
      "128/128 [==============================] - 1s 11ms/step\n",
      "15\n",
      "128/128 [==============================] - 1s 11ms/step\n",
      "16\n",
      "128/128 [==============================] - 1s 11ms/step\n",
      "17\n",
      "128/128 [==============================] - 1s 11ms/step\n",
      "18\n",
      "128/128 [==============================] - 2s 11ms/step\n",
      "19\n",
      "128/128 [==============================] - 2s 12ms/step\n",
      "20\n",
      "128/128 [==============================] - 2s 13ms/step\n",
      "21\n",
      "128/128 [==============================] - 2s 14ms/step\n",
      "22\n",
      "128/128 [==============================] - 2s 16ms/step\n",
      "23\n",
      "128/128 [==============================] - 2s 14ms/step\n",
      "24\n",
      "128/128 [==============================] - 2s 18ms/step\n",
      "25\n",
      "128/128 [==============================] - 2s 15ms/step\n",
      "26\n",
      "128/128 [==============================] - 2s 18ms/step\n",
      "27\n",
      "128/128 [==============================] - 2s 14ms/step\n",
      "28\n",
      "128/128 [==============================] - 2s 15ms/step\n",
      "29\n",
      "128/128 [==============================] - 2s 14ms/step\n",
      "30\n",
      "128/128 [==============================] - 2s 14ms/step\n",
      "31\n",
      "128/128 [==============================] - 2s 14ms/step\n",
      "32\n",
      "128/128 [==============================] - 2s 13ms/step\n",
      "33\n",
      "128/128 [==============================] - 2s 14ms/step\n",
      "34\n",
      "23/23 [==============================] - 0s 14ms/step\n",
      "0\n",
      "128/128 [==============================] - 2s 12ms/step\n",
      "1\n",
      "128/128 [==============================] - 2s 12ms/step\n",
      "2\n",
      "128/128 [==============================] - 2s 12ms/step\n",
      "3\n",
      "128/128 [==============================] - 2s 13ms/step\n",
      "4\n",
      "128/128 [==============================] - 2s 12ms/step\n",
      "5\n",
      "128/128 [==============================] - 2s 12ms/step\n",
      "6\n",
      "128/128 [==============================] - 2s 12ms/step\n",
      "7\n",
      "128/128 [==============================] - 2s 12ms/step\n",
      "8\n",
      "128/128 [==============================] - 2s 16ms/step\n",
      "9\n",
      "128/128 [==============================] - 2s 15ms/step\n",
      "10\n",
      "128/128 [==============================] - 2s 14ms/step\n",
      "11\n",
      "128/128 [==============================] - 2s 14ms/step\n",
      "12\n",
      "128/128 [==============================] - 2s 14ms/step\n",
      "13\n",
      "128/128 [==============================] - 2s 14ms/step\n",
      "14\n",
      "83/83 [==============================] - 1s 14ms/step\n"
     ]
    }
   ],
   "source": [
    "#Create dataset\n",
    "#The new model that we just built will have as inputs the predictions of the triplet model \n",
    "#and will output probability distribution for 256 classes\n",
    "encoding_profiling = []\n",
    "label_profiling = []\n",
    "val_encoding_profiling = []\n",
    "val_label_profiling = []\n",
    "for step,(x_batch,labels) in enumerate(train_dataset):\n",
    "    print(step)\n",
    "    encoding_profiling.append(reconstructed_model.predict(x_batch))\n",
    "    label_profiling.append(labels)\n",
    "\n",
    "for step,(x_batch,labels) in enumerate(val_dataset):\n",
    "    print(step)\n",
    "    val_encoding_profiling.append(reconstructed_model.predict(x_batch))\n",
    "    val_label_profiling.append(labels)"
   ]
  },
  {
   "cell_type": "code",
   "execution_count": 28,
   "metadata": {},
   "outputs": [
    {
     "name": "stdout",
     "output_type": "stream",
     "text": [
      "35 <class 'numpy.ndarray'> (4096, 32)\n",
      "(140000, 32)\n"
     ]
    }
   ],
   "source": [
    "encoding_profiling_array = np.concatenate(encoding_profiling, axis = 0)\n",
    "label_profiling_array = np.concatenate(label_profiling, axis = 0)\n",
    "\n",
    "val_encoding_profiling_array = np.concatenate(val_encoding_profiling, axis = 0)\n",
    "val_label_profiling_array = np.concatenate(val_label_profiling, axis = 0)\n",
    "\n",
    "print(encoding_profiling_array.shape)"
   ]
  },
  {
   "cell_type": "code",
   "execution_count": 45,
   "metadata": {},
   "outputs": [
    {
     "name": "stdout",
     "output_type": "stream",
     "text": [
      "(60000, 32)\n",
      "(60000, 256)\n",
      "(140000, 32)\n",
      "(140000, 256)\n",
      "Model: \"sequential_11\"\n",
      "_________________________________________________________________\n",
      " Layer (type)                Output Shape              Param #   \n",
      "=================================================================\n",
      " dense_30 (Dense)            (None, 64)                2112      \n",
      "                                                                 \n",
      " leaky_re_lu_4 (LeakyReLU)   (None, 64)                0         \n",
      "                                                                 \n",
      " dense_31 (Dense)            (None, 128)               8320      \n",
      "                                                                 \n",
      " leaky_re_lu_5 (LeakyReLU)   (None, 128)               0         \n",
      "                                                                 \n",
      " dense_32 (Dense)            (None, 256)               33024     \n",
      "                                                                 \n",
      "=================================================================\n",
      "Total params: 43,456\n",
      "Trainable params: 43,456\n",
      "Non-trainable params: 0\n",
      "_________________________________________________________________\n",
      "Epoch 1/20\n"
     ]
    },
    {
     "name": "stderr",
     "output_type": "stream",
     "text": [
      "/usr/local/lib/python3.10/dist-packages/tensorflow/python/data/ops/structured_function.py:256: UserWarning: Even though the `tf.config.experimental_run_functions_eagerly` option is set, this option does not apply to tf.data functions. To force eager execution of tf.data functions, please use `tf.data.experimental.enable_debug_mode()`.\n",
      "  warnings.warn(\n"
     ]
    },
    {
     "name": "stdout",
     "output_type": "stream",
     "text": [
      "2188/2188 [==============================] - 52s 24ms/step - loss: 5.9815 - categorical_accuracy: 0.0041 - val_loss: 5.5534 - val_categorical_accuracy: 0.0035\n",
      "Epoch 2/20\n",
      "2188/2188 [==============================] - 59s 27ms/step - loss: 5.5544 - categorical_accuracy: 0.0038 - val_loss: 5.5559 - val_categorical_accuracy: 0.0036\n",
      "Epoch 3/20\n",
      "2188/2188 [==============================] - 50s 23ms/step - loss: 5.5484 - categorical_accuracy: 0.0041 - val_loss: 5.5479 - val_categorical_accuracy: 0.0038\n",
      "Epoch 4/20\n",
      "2188/2188 [==============================] - 50s 23ms/step - loss: 5.5480 - categorical_accuracy: 0.0040 - val_loss: 5.5491 - val_categorical_accuracy: 0.0040\n",
      "Epoch 5/20\n",
      "2188/2188 [==============================] - 50s 23ms/step - loss: 5.5490 - categorical_accuracy: 0.0043 - val_loss: 5.5519 - val_categorical_accuracy: 0.0036\n",
      "Epoch 6/20\n",
      "2188/2188 [==============================] - 50s 23ms/step - loss: 5.5493 - categorical_accuracy: 0.0039 - val_loss: 5.5496 - val_categorical_accuracy: 0.0041\n",
      "Epoch 7/20\n",
      "2188/2188 [==============================] - 50s 23ms/step - loss: 5.5495 - categorical_accuracy: 0.0037 - val_loss: 5.5496 - val_categorical_accuracy: 0.0038\n",
      "Epoch 8/20\n",
      "2188/2188 [==============================] - 50s 23ms/step - loss: 5.5502 - categorical_accuracy: 0.0040 - val_loss: 5.5522 - val_categorical_accuracy: 0.0037\n",
      "Epoch 9/20\n",
      "2188/2188 [==============================] - 48s 22ms/step - loss: 5.5494 - categorical_accuracy: 0.0044 - val_loss: 5.5514 - val_categorical_accuracy: 0.0039\n",
      "Epoch 10/20\n",
      "2188/2188 [==============================] - 45s 21ms/step - loss: 5.5493 - categorical_accuracy: 0.0040 - val_loss: 5.5526 - val_categorical_accuracy: 0.0041\n",
      "Epoch 11/20\n",
      "2188/2188 [==============================] - 48s 22ms/step - loss: 5.5501 - categorical_accuracy: 0.0039 - val_loss: 5.5493 - val_categorical_accuracy: 0.0036\n",
      "Epoch 12/20\n",
      "2188/2188 [==============================] - 52s 24ms/step - loss: 5.5497 - categorical_accuracy: 0.0040 - val_loss: 5.5537 - val_categorical_accuracy: 0.0036\n",
      "Epoch 13/20\n",
      "2188/2188 [==============================] - 55s 25ms/step - loss: 5.5494 - categorical_accuracy: 0.0040 - val_loss: 5.5500 - val_categorical_accuracy: 0.0034\n",
      "Epoch 14/20\n",
      "2188/2188 [==============================] - 56s 26ms/step - loss: 5.5497 - categorical_accuracy: 0.0041 - val_loss: 5.5515 - val_categorical_accuracy: 0.0038\n",
      "Epoch 15/20\n",
      "2188/2188 [==============================] - 55s 25ms/step - loss: 5.5496 - categorical_accuracy: 0.0042 - val_loss: 5.5501 - val_categorical_accuracy: 0.0040\n",
      "Epoch 16/20\n",
      "2188/2188 [==============================] - 50s 23ms/step - loss: 5.5495 - categorical_accuracy: 0.0038 - val_loss: 5.5494 - val_categorical_accuracy: 0.0042\n",
      "Epoch 17/20\n",
      "2188/2188 [==============================] - 50s 23ms/step - loss: 5.5493 - categorical_accuracy: 0.0038 - val_loss: 5.5536 - val_categorical_accuracy: 0.0036\n",
      "Epoch 18/20\n",
      "2188/2188 [==============================] - 48s 22ms/step - loss: 5.5490 - categorical_accuracy: 0.0042 - val_loss: 5.5514 - val_categorical_accuracy: 0.0036\n",
      "Epoch 19/20\n",
      "2188/2188 [==============================] - 48s 22ms/step - loss: 5.5499 - categorical_accuracy: 0.0043 - val_loss: 5.5500 - val_categorical_accuracy: 0.0040\n",
      "Epoch 20/20\n",
      "2188/2188 [==============================] - 53s 24ms/step - loss: 5.5494 - categorical_accuracy: 0.0039 - val_loss: 5.5517 - val_categorical_accuracy: 0.0037\n"
     ]
    }
   ],
   "source": [
    "label_profiling_array = tf.one_hot(label_profiling_array,depth = 256) \n",
    "val_label_profiling_array = tf.one_hot(val_label_profiling_array,depth = 256) \n",
    "tf.config.run_functions_eagerly(True)\n",
    "print(val_encoding_profiling_array.shape)\n",
    "print(val_label_profiling_array.shape)\n",
    "print(encoding_profiling_array.shape)\n",
    "print(label_profiling_array.shape)\n",
    "\n",
    "model.summary()\n",
    "history = model.fit(x = encoding_profiling_array, y = label_profiling_array, epochs= 20, batch_size=64, validation_data = [val_encoding_profiling_array, val_label_profiling_array], validation_batch_size=64)"
   ]
  },
  {
   "cell_type": "code",
   "execution_count": 46,
   "metadata": {},
   "outputs": [
    {
     "name": "stdout",
     "output_type": "stream",
     "text": [
      "dict_keys(['loss', 'categorical_accuracy', 'val_loss', 'val_categorical_accuracy'])\n"
     ]
    },
    {
     "data": {
      "image/png": "[encoded data removed]",
      "text/plain": [
       "<Figure size 640x480 with 1 Axes>"
      ]
     },
     "metadata": {},
     "output_type": "display_data"
    }
   ],
   "source": [
    "# list all data in history\n",
    "print(history.history.keys())\n",
    "# summarize history for accuracy\n",
    "plt.plot(history.history['categorical_accuracy'])\n",
    "plt.plot(history.history['val_categorical_accuracy'])\n",
    "plt.title('model accuracy')\n",
    "list_ticks = []\n",
    "for i in range(0,21):\n",
    "    list_ticks.append(int(i))\n",
    "plt.xticks(list_ticks)\n",
    "plt.ylabel('accuracy')\n",
    "plt.xlabel('epoch')\n",
    "plt.legend(['train', 'test'], loc='upper left')\n",
    "plt.show()"
   ]
  },
  {
   "cell_type": "code",
   "execution_count": 56,
   "metadata": {},
   "outputs": [],
   "source": [
    "#Save new model\n",
    "model.save(os.path.join(root,\"my_model32to256.h5\"))"
   ]
  },
  {
   "cell_type": "code",
   "execution_count": 4,
   "metadata": {},
   "outputs": [
    {
     "name": "stdout",
     "output_type": "stream",
     "text": [
      "WARNING:tensorflow:No training configuration found in the save file, so the model was *not* compiled. Compile it manually.\n"
     ]
    }
   ],
   "source": [
    "#Load Triplet model\n",
    "reconstructed_model = tk.models.load_model(os.path.join(root,'mymodel20.h5'))\n",
    "\n",
    "#Load or re-use model we just trained\n",
    "model = tk.models.load_model(os.path.join(root,'my_model32to256.h5'))"
   ]
  },
  {
   "cell_type": "code",
   "execution_count": 5,
   "metadata": {},
   "outputs": [
    {
     "name": "stdout",
     "output_type": "stream",
     "text": [
      "Model: \"sequential\"\n",
      "_________________________________________________________________\n",
      " Layer (type)                Output Shape              Param #   \n",
      "=================================================================\n",
      " conv1d (Conv1D)             (None, 1400, 64)          1024      \n",
      "                                                                 \n",
      " batch_normalization (BatchN  (None, 1400, 64)         256       \n",
      " ormalization)                                                   \n",
      "                                                                 \n",
      " average_pooling1d (AverageP  (None, 93, 64)           0         \n",
      " ooling1D)                                                       \n",
      "                                                                 \n",
      " conv1d_1 (Conv1D)           (None, 93, 128)           24704     \n",
      "                                                                 \n",
      " batch_normalization_1 (Batc  (None, 93, 128)          512       \n",
      " hNormalization)                                                 \n",
      "                                                                 \n",
      " average_pooling1d_1 (Averag  (None, 46, 128)          0         \n",
      " ePooling1D)                                                     \n",
      "                                                                 \n",
      " Flatten (Flatten)           (None, 5888)              0         \n",
      "                                                                 \n",
      " dense (Dense)               (None, 32)                188448    \n",
      "                                                                 \n",
      " dense_30 (Dense)            (None, 64)                2112      \n",
      "                                                                 \n",
      " leaky_re_lu_4 (LeakyReLU)   (None, 64)                0         \n",
      "                                                                 \n",
      " dense_31 (Dense)            (None, 128)               8320      \n",
      "                                                                 \n",
      " leaky_re_lu_5 (LeakyReLU)   (None, 128)               0         \n",
      "                                                                 \n",
      " dense_32 (Dense)            (None, 256)               33024     \n",
      "                                                                 \n",
      "=================================================================\n",
      "Total params: 258,400\n",
      "Trainable params: 258,016\n",
      "Non-trainable params: 384\n",
      "_________________________________________________________________\n"
     ]
    }
   ],
   "source": [
    "#Build full model by concatenating the two models below\n",
    "\n",
    "full_model = tk.Sequential()\n",
    "for layer in reconstructed_model.layers:\n",
    "    full_model.add(layer)\n",
    "for layer in model.layers:\n",
    "    full_model.add(layer)\n",
    "full_model.summary()\n",
    "full_model.compile(\n",
    "    optimizer=tk.optimizers.Adam(learning_rate = 0.001),  # Optimizer\n",
    "    # Loss function to minimize\n",
    "    loss=tk.losses.CategoricalCrossentropy(),\n",
    "    # List of metrics to monitor\n",
    "    metrics=[tk.metrics.CategoricalAccuracy()],\n",
    ")"
   ]
  },
  {
   "cell_type": "code",
   "execution_count": 6,
   "metadata": {},
   "outputs": [],
   "source": [
    "X_train, X_val, y_train, y_val = train_test_split(X_profiling, Y_profiling, test_size=0.3, random_state=42, shuffle=True)"
   ]
  },
  {
   "cell_type": "code",
   "execution_count": 7,
   "metadata": {},
   "outputs": [],
   "source": [
    "tf.config.run_functions_eagerly(True)"
   ]
  },
  {
   "cell_type": "code",
   "execution_count": 8,
   "metadata": {},
   "outputs": [
    {
     "name": "stderr",
     "output_type": "stream",
     "text": [
      "C:\\Users\\nampo\\anaconda3\\lib\\site-packages\\tensorflow\\python\\data\\ops\\structured_function.py:256: UserWarning: Even though the `tf.config.experimental_run_functions_eagerly` option is set, this option does not apply to tf.data functions. To force eager execution of tf.data functions, please use `tf.data.experimental.enable_debug_mode()`.\n",
      "  warnings.warn(\n"
     ]
    },
    {
     "name": "stdout",
     "output_type": "stream",
     "text": [
      "Epoch 1/10\n",
      "2188/2188 [==============================] - 584s 267ms/step - loss: 5.5493 - categorical_accuracy: 0.0037 - val_loss: 5.5471 - val_categorical_accuracy: 0.0037\n",
      "Epoch 2/10\n",
      "2188/2188 [==============================] - 549s 251ms/step - loss: 5.5465 - categorical_accuracy: 0.0041 - val_loss: 5.5479 - val_categorical_accuracy: 0.0036\n",
      "Epoch 3/10\n",
      "2188/2188 [==============================] - 563s 257ms/step - loss: 5.5464 - categorical_accuracy: 0.0040 - val_loss: 5.5467 - val_categorical_accuracy: 0.0036\n",
      "Epoch 4/10\n",
      "2188/2188 [==============================] - 568s 260ms/step - loss: 5.5458 - categorical_accuracy: 0.0040 - val_loss: 5.5469 - val_categorical_accuracy: 0.0038\n",
      "Epoch 5/10\n",
      "2188/2188 [==============================] - 578s 264ms/step - loss: 5.5454 - categorical_accuracy: 0.0040 - val_loss: 5.5467 - val_categorical_accuracy: 0.0036\n",
      "Epoch 6/10\n",
      "2188/2188 [==============================] - 535s 245ms/step - loss: 5.5452 - categorical_accuracy: 0.0040 - val_loss: 5.5466 - val_categorical_accuracy: 0.0036\n",
      "Epoch 7/10\n",
      "2188/2188 [==============================] - 532s 243ms/step - loss: 5.5452 - categorical_accuracy: 0.0040 - val_loss: 5.5467 - val_categorical_accuracy: 0.0036\n",
      "Epoch 8/10\n",
      "2188/2188 [==============================] - 575s 263ms/step - loss: 5.5452 - categorical_accuracy: 0.0042 - val_loss: 5.5469 - val_categorical_accuracy: 0.0035\n",
      "Epoch 9/10\n",
      "2188/2188 [==============================] - 550s 252ms/step - loss: 5.5450 - categorical_accuracy: 0.0039 - val_loss: 5.5467 - val_categorical_accuracy: 0.0037\n",
      "Epoch 10/10\n",
      "2188/2188 [==============================] - 537s 245ms/step - loss: 5.5453 - categorical_accuracy: 0.0040 - val_loss: 5.5467 - val_categorical_accuracy: 0.0036\n"
     ]
    },
    {
     "name": "stderr",
     "output_type": "stream",
     "text": [
      "WARNING:absl:Found untraced functions such as _jit_compiled_convolution_op, _jit_compiled_convolution_op, _update_step_xla while saving (showing 3 of 3). These functions will not be directly callable after loading.\n"
     ]
    },
    {
     "name": "stdout",
     "output_type": "stream",
     "text": [
      "INFO:tensorflow:Assets written to: C:\\Users\\nampo\\Downloads\\full_model\\assets\n"
     ]
    },
    {
     "name": "stderr",
     "output_type": "stream",
     "text": [
      "INFO:tensorflow:Assets written to: C:\\Users\\nampo\\Downloads\\full_model\\assets\n"
     ]
    }
   ],
   "source": [
    "tf.config.run_functions_eagerly(True)\n",
    "full_history = full_model.fit(x = X_train, y = tf.one_hot(y_train,depth = 256), epochs= 10, batch_size=64, validation_data = [X_val, tf.one_hot(y_val, depth = 256)], validation_batch_size=64)\n",
    "full_model.save(os.path.join(root,\"full_model\"))"
   ]
  },
  {
   "cell_type": "code",
   "execution_count": 9,
   "metadata": {},
   "outputs": [
    {
     "name": "stdout",
     "output_type": "stream",
     "text": [
      "dict_keys(['loss', 'categorical_accuracy', 'val_loss', 'val_categorical_accuracy'])\n"
     ]
    },
    {
     "data": {
      "image/png": "[encoded data removed]",
      "text/plain": [
       "<Figure size 432x288 with 1 Axes>"
      ]
     },
     "metadata": {
      "needs_background": "light"
     },
     "output_type": "display_data"
    }
   ],
   "source": [
    "# list all data in history\n",
    "print(full_history.history.keys())\n",
    "# summarize history for accuracy\n",
    "plt.plot(full_history.history['categorical_accuracy'])\n",
    "plt.plot(full_history.history['val_categorical_accuracy'])\n",
    "plt.title('model accuracy')\n",
    "list_ticks = []\n",
    "for i in range(0,11):\n",
    "    list_ticks.append(int(i))\n",
    "plt.xticks(list_ticks)\n",
    "plt.ylabel('accuracy')\n",
    "plt.xlabel('epoch')\n",
    "plt.legend(['train', 'test'], loc='upper left')\n",
    "plt.show()"
   ]
  },
  {
   "cell_type": "code",
   "execution_count": 26,
   "metadata": {},
   "outputs": [
    {
     "data": {
      "image/png": "[encoded data removed]",
      "text/plain": [
       "<Figure size 432x288 with 1 Axes>"
      ]
     },
     "metadata": {
      "needs_background": "light"
     },
     "output_type": "display_data"
    }
   ],
   "source": [
    "plt.figure()\n",
    "plt.plot(full_history.history['loss'])\n",
    "plt.plot(full_history.history['val_loss'])\n",
    "plt.title(\"model loss\")\n",
    "list_ticks = []\n",
    "for i in range(0,11):\n",
    "    list_ticks.append(int(i))\n",
    "plt.xticks(list_ticks)\n",
    "plt.ylabel('loss')\n",
    "plt.xlabel('epochs')\n",
    "plt.legend(['train', 'test'], loc='upper left')\n",
    "plt.show()"
   ]
  },
  {
   "cell_type": "code",
   "execution_count": null,
   "metadata": {},
   "outputs": [],
   "source": [
    "root =r\"C:\\Users\\nampo\\Downloads\"\n",
    "data = h5py.File(os.path.join(root,\"ascad-variable.h5\"), \"r\")\n",
    "SUBKEY_INDEX = 2\n",
    "\n",
    "test_traces = data[\"Attack_traces\"][\"traces\"]\n",
    "test_plaintexts = data[\"Attack_traces\"][\"metadata\"][\"plaintext\"][:, SUBKEY_INDEX]\n",
    "test_keys = data[\"Attack_traces\"][\"metadata\"][\"key\"][:, SUBKEY_INDEX]\n",
    "\n",
    "num_test_traces, num_samples = test_traces.shape\n",
    "print(f\"Number of traces: {num_test_traces}, number of samples: {num_samples}\")\n",
    "\n",
    "# Check data shapes\n",
    "assert(test_plaintexts.shape == (num_test_traces,))\n",
    "assert(test_keys.shape == (num_test_traces,))\n",
    "\n",
    "# Extraction of the secret key (must be the same for all traces)\n",
    "SECRET_KEY = test_keys[0]\n",
    "assert(np.all(test_keys == SECRET_KEY))\n",
    "print(test_keys)\n",
    "print(SECRET_KEY)\n",
    "print(f\"Secret key is {SECRET_KEY:#04x}\")"
   ]
  },
  {
   "cell_type": "code",
   "execution_count": 25,
   "metadata": {},
   "outputs": [
    {
     "name": "stdout",
     "output_type": "stream",
     "text": [
      "98\n"
     ]
    },
    {
     "name": "stderr",
     "output_type": "stream",
     "text": [
      "\r",
      "  0%|                                                                                           | 0/98 [00:00<?, ?it/s]"
     ]
    },
    {
     "name": "stdout",
     "output_type": "stream",
     "text": [
      "32/32 [==============================] - 1s 29ms/step\n"
     ]
    },
    {
     "name": "stderr",
     "output_type": "stream",
     "text": [
      "\r",
      "  1%|▊                                                                                | 1/98 [01:16<2:04:02, 76.73s/it]"
     ]
    },
    {
     "name": "stdout",
     "output_type": "stream",
     "text": [
      "32/32 [==============================] - 1s 26ms/step\n"
     ]
    },
    {
     "name": "stderr",
     "output_type": "stream",
     "text": [
      "\r",
      "  2%|█▋                                                                               | 2/98 [02:38<2:07:03, 79.41s/it]"
     ]
    },
    {
     "name": "stdout",
     "output_type": "stream",
     "text": [
      "32/32 [==============================] - 1s 29ms/step\n"
     ]
    },
    {
     "name": "stderr",
     "output_type": "stream",
     "text": [
      "\r",
      "  3%|██▍                                                                              | 3/98 [03:49<2:00:06, 75.85s/it]"
     ]
    },
    {
     "name": "stdout",
     "output_type": "stream",
     "text": [
      "32/32 [==============================] - 1s 26ms/step\n"
     ]
    },
    {
     "name": "stderr",
     "output_type": "stream",
     "text": [
      "\r",
      "  4%|███▎                                                                             | 4/98 [04:57<1:53:46, 72.62s/it]"
     ]
    },
    {
     "name": "stdout",
     "output_type": "stream",
     "text": [
      "32/32 [==============================] - 1s 26ms/step\n"
     ]
    },
    {
     "name": "stderr",
     "output_type": "stream",
     "text": [
      "\r",
      "  5%|████▏                                                                            | 5/98 [06:04<1:49:41, 70.77s/it]"
     ]
    },
    {
     "name": "stdout",
     "output_type": "stream",
     "text": [
      "32/32 [==============================] - 1s 26ms/step\n"
     ]
    },
    {
     "name": "stderr",
     "output_type": "stream",
     "text": [
      "\r",
      "  6%|████▉                                                                            | 6/98 [07:14<1:48:00, 70.44s/it]"
     ]
    },
    {
     "name": "stdout",
     "output_type": "stream",
     "text": [
      "32/32 [==============================] - 1s 26ms/step\n"
     ]
    },
    {
     "name": "stderr",
     "output_type": "stream",
     "text": [
      "\r",
      "  7%|█████▊                                                                           | 7/98 [08:22<1:45:21, 69.47s/it]"
     ]
    },
    {
     "name": "stdout",
     "output_type": "stream",
     "text": [
      "32/32 [==============================] - 1s 26ms/step\n"
     ]
    },
    {
     "name": "stderr",
     "output_type": "stream",
     "text": [
      "\r",
      "  8%|██████▌                                                                          | 8/98 [09:29<1:43:12, 68.80s/it]"
     ]
    },
    {
     "name": "stdout",
     "output_type": "stream",
     "text": [
      "32/32 [==============================] - 1s 28ms/step\n"
     ]
    },
    {
     "name": "stderr",
     "output_type": "stream",
     "text": [
      "\r",
      "  9%|███████▍                                                                         | 9/98 [10:41<1:43:26, 69.73s/it]"
     ]
    },
    {
     "name": "stdout",
     "output_type": "stream",
     "text": [
      "32/32 [==============================] - 1s 29ms/step\n"
     ]
    },
    {
     "name": "stderr",
     "output_type": "stream",
     "text": [
      "\r",
      " 10%|████████▏                                                                       | 10/98 [11:48<1:41:14, 69.03s/it]"
     ]
    },
    {
     "name": "stdout",
     "output_type": "stream",
     "text": [
      "32/32 [==============================] - 1s 26ms/step\n"
     ]
    },
    {
     "name": "stderr",
     "output_type": "stream",
     "text": [
      "\r",
      " 11%|████████▉                                                                       | 11/98 [12:56<1:39:20, 68.51s/it]"
     ]
    },
    {
     "name": "stdout",
     "output_type": "stream",
     "text": [
      "32/32 [==============================] - 1s 30ms/step\n"
     ]
    },
    {
     "name": "stderr",
     "output_type": "stream",
     "text": [
      "\r",
      " 12%|█████████▊                                                                      | 12/98 [14:03<1:37:56, 68.33s/it]"
     ]
    },
    {
     "name": "stdout",
     "output_type": "stream",
     "text": [
      "32/32 [==============================] - 1s 28ms/step\n"
     ]
    },
    {
     "name": "stderr",
     "output_type": "stream",
     "text": [
      "\r",
      " 13%|██████████▌                                                                     | 13/98 [15:12<1:36:46, 68.31s/it]"
     ]
    },
    {
     "name": "stdout",
     "output_type": "stream",
     "text": [
      "32/32 [==============================] - 1s 27ms/step\n"
     ]
    },
    {
     "name": "stderr",
     "output_type": "stream",
     "text": [
      "\r",
      " 14%|███████████▍                                                                    | 14/98 [16:19<1:35:10, 67.99s/it]"
     ]
    },
    {
     "name": "stdout",
     "output_type": "stream",
     "text": [
      "32/32 [==============================] - 1s 26ms/step\n"
     ]
    },
    {
     "name": "stderr",
     "output_type": "stream",
     "text": [
      "\r",
      " 15%|████████████▏                                                                   | 15/98 [17:26<1:33:42, 67.75s/it]"
     ]
    },
    {
     "name": "stdout",
     "output_type": "stream",
     "text": [
      "32/32 [==============================] - 1s 25ms/step\n"
     ]
    },
    {
     "name": "stderr",
     "output_type": "stream",
     "text": [
      "\r",
      " 16%|█████████████                                                                   | 16/98 [18:33<1:32:23, 67.61s/it]"
     ]
    },
    {
     "name": "stdout",
     "output_type": "stream",
     "text": [
      "32/32 [==============================] - 1s 26ms/step\n"
     ]
    },
    {
     "name": "stderr",
     "output_type": "stream",
     "text": [
      "\r",
      " 17%|█████████████▉                                                                  | 17/98 [19:41<1:31:06, 67.49s/it]"
     ]
    },
    {
     "name": "stdout",
     "output_type": "stream",
     "text": [
      "32/32 [==============================] - 1s 25ms/step\n"
     ]
    },
    {
     "name": "stderr",
     "output_type": "stream",
     "text": [
      "\r",
      " 18%|██████████████▋                                                                 | 18/98 [20:49<1:30:15, 67.70s/it]"
     ]
    },
    {
     "name": "stdout",
     "output_type": "stream",
     "text": [
      "32/32 [==============================] - 1s 26ms/step\n"
     ]
    },
    {
     "name": "stderr",
     "output_type": "stream",
     "text": [
      "\r",
      " 19%|███████████████▌                                                                | 19/98 [21:56<1:29:01, 67.62s/it]"
     ]
    },
    {
     "name": "stdout",
     "output_type": "stream",
     "text": [
      "32/32 [==============================] - 1s 25ms/step\n"
     ]
    },
    {
     "name": "stderr",
     "output_type": "stream",
     "text": [
      "\r",
      " 20%|████████████████▎                                                               | 20/98 [23:04<1:28:00, 67.70s/it]"
     ]
    },
    {
     "name": "stdout",
     "output_type": "stream",
     "text": [
      "32/32 [==============================] - 1s 26ms/step\n"
     ]
    },
    {
     "name": "stderr",
     "output_type": "stream",
     "text": [
      "\r",
      " 21%|█████████████████▏                                                              | 21/98 [24:13<1:27:13, 67.96s/it]"
     ]
    },
    {
     "name": "stdout",
     "output_type": "stream",
     "text": [
      "32/32 [==============================] - 1s 25ms/step\n"
     ]
    },
    {
     "name": "stderr",
     "output_type": "stream",
     "text": [
      "\r",
      " 22%|█████████████████▉                                                              | 22/98 [25:20<1:25:47, 67.73s/it]"
     ]
    },
    {
     "name": "stdout",
     "output_type": "stream",
     "text": [
      "32/32 [==============================] - 1s 25ms/step\n"
     ]
    },
    {
     "name": "stderr",
     "output_type": "stream",
     "text": [
      "\r",
      " 23%|██████████████████▊                                                             | 23/98 [26:27<1:24:31, 67.62s/it]"
     ]
    },
    {
     "name": "stdout",
     "output_type": "stream",
     "text": [
      "32/32 [==============================] - 1s 25ms/step\n"
     ]
    },
    {
     "name": "stderr",
     "output_type": "stream",
     "text": [
      "\r",
      " 24%|███████████████████▌                                                            | 24/98 [27:36<1:23:42, 67.87s/it]"
     ]
    },
    {
     "name": "stdout",
     "output_type": "stream",
     "text": [
      "32/32 [==============================] - 1s 27ms/step\n"
     ]
    },
    {
     "name": "stderr",
     "output_type": "stream",
     "text": [
      "\r",
      " 26%|████████████████████▍                                                           | 25/98 [28:44<1:22:34, 67.86s/it]"
     ]
    },
    {
     "name": "stdout",
     "output_type": "stream",
     "text": [
      "32/32 [==============================] - 1s 27ms/step\n"
     ]
    },
    {
     "name": "stderr",
     "output_type": "stream",
     "text": [
      "\r",
      " 27%|█████████████████████▏                                                          | 26/98 [29:52<1:21:30, 67.93s/it]"
     ]
    },
    {
     "name": "stdout",
     "output_type": "stream",
     "text": [
      "32/32 [==============================] - 1s 27ms/step\n"
     ]
    },
    {
     "name": "stderr",
     "output_type": "stream",
     "text": [
      "\r",
      " 28%|██████████████████████                                                          | 27/98 [31:00<1:20:26, 67.97s/it]"
     ]
    },
    {
     "name": "stdout",
     "output_type": "stream",
     "text": [
      "32/32 [==============================] - 1s 26ms/step\n"
     ]
    },
    {
     "name": "stderr",
     "output_type": "stream",
     "text": [
      "\r",
      " 29%|██████████████████████▊                                                         | 28/98 [32:08<1:19:22, 68.04s/it]"
     ]
    },
    {
     "name": "stdout",
     "output_type": "stream",
     "text": [
      "32/32 [==============================] - 1s 27ms/step\n"
     ]
    },
    {
     "name": "stderr",
     "output_type": "stream",
     "text": [
      "\r",
      " 30%|███████████████████████▋                                                        | 29/98 [33:16<1:18:13, 68.02s/it]"
     ]
    },
    {
     "name": "stdout",
     "output_type": "stream",
     "text": [
      "32/32 [==============================] - 1s 27ms/step\n"
     ]
    },
    {
     "name": "stderr",
     "output_type": "stream",
     "text": [
      "\r",
      " 31%|████████████████████████▍                                                       | 30/98 [34:23<1:16:56, 67.89s/it]"
     ]
    },
    {
     "name": "stdout",
     "output_type": "stream",
     "text": [
      "32/32 [==============================] - 1s 27ms/step\n"
     ]
    },
    {
     "name": "stderr",
     "output_type": "stream",
     "text": [
      "\r",
      " 32%|█████████████████████████▎                                                      | 31/98 [35:31<1:15:43, 67.82s/it]"
     ]
    },
    {
     "name": "stdout",
     "output_type": "stream",
     "text": [
      "32/32 [==============================] - 1s 27ms/step\n"
     ]
    },
    {
     "name": "stderr",
     "output_type": "stream",
     "text": [
      "\r",
      " 33%|██████████████████████████                                                      | 32/98 [36:39<1:14:34, 67.79s/it]"
     ]
    },
    {
     "name": "stdout",
     "output_type": "stream",
     "text": [
      "32/32 [==============================] - 1s 27ms/step\n"
     ]
    },
    {
     "name": "stderr",
     "output_type": "stream",
     "text": [
      "\r",
      " 34%|██████████████████████████▉                                                     | 33/98 [37:46<1:13:21, 67.72s/it]"
     ]
    },
    {
     "name": "stdout",
     "output_type": "stream",
     "text": [
      "32/32 [==============================] - 1s 27ms/step\n"
     ]
    },
    {
     "name": "stderr",
     "output_type": "stream",
     "text": [
      "\r",
      " 35%|███████████████████████████▊                                                    | 34/98 [38:54<1:12:10, 67.67s/it]"
     ]
    },
    {
     "name": "stdout",
     "output_type": "stream",
     "text": [
      "32/32 [==============================] - 1s 25ms/step\n"
     ]
    },
    {
     "name": "stderr",
     "output_type": "stream",
     "text": [
      "\r",
      " 36%|████████████████████████████▌                                                   | 35/98 [40:02<1:11:07, 67.74s/it]"
     ]
    },
    {
     "name": "stdout",
     "output_type": "stream",
     "text": [
      "32/32 [==============================] - 1s 25ms/step\n"
     ]
    },
    {
     "name": "stderr",
     "output_type": "stream",
     "text": [
      "\r",
      " 37%|█████████████████████████████▍                                                  | 36/98 [41:09<1:09:48, 67.56s/it]"
     ]
    },
    {
     "name": "stdout",
     "output_type": "stream",
     "text": [
      "32/32 [==============================] - 1s 25ms/step\n"
     ]
    },
    {
     "name": "stderr",
     "output_type": "stream",
     "text": [
      "\r",
      " 38%|██████████████████████████████▏                                                 | 37/98 [42:18<1:09:01, 67.89s/it]"
     ]
    },
    {
     "name": "stdout",
     "output_type": "stream",
     "text": [
      "32/32 [==============================] - 1s 25ms/step\n"
     ]
    },
    {
     "name": "stderr",
     "output_type": "stream",
     "text": [
      "\r",
      " 39%|███████████████████████████████                                                 | 38/98 [43:27<1:08:22, 68.38s/it]"
     ]
    },
    {
     "name": "stdout",
     "output_type": "stream",
     "text": [
      "32/32 [==============================] - 1s 33ms/step\n"
     ]
    },
    {
     "name": "stderr",
     "output_type": "stream",
     "text": [
      "\r",
      " 40%|███████████████████████████████▊                                                | 39/98 [44:36<1:07:24, 68.55s/it]"
     ]
    },
    {
     "name": "stdout",
     "output_type": "stream",
     "text": [
      "32/32 [==============================] - 1s 26ms/step\n"
     ]
    },
    {
     "name": "stderr",
     "output_type": "stream",
     "text": [
      "\r",
      " 41%|████████████████████████████████▋                                               | 40/98 [45:46<1:06:32, 68.84s/it]"
     ]
    },
    {
     "name": "stdout",
     "output_type": "stream",
     "text": [
      "32/32 [==============================] - 1s 27ms/step\n"
     ]
    },
    {
     "name": "stderr",
     "output_type": "stream",
     "text": [
      "\r",
      " 42%|█████████████████████████████████▍                                              | 41/98 [46:54<1:05:18, 68.75s/it]"
     ]
    },
    {
     "name": "stdout",
     "output_type": "stream",
     "text": [
      "32/32 [==============================] - 1s 26ms/step\n"
     ]
    },
    {
     "name": "stderr",
     "output_type": "stream",
     "text": [
      "\r",
      " 43%|██████████████████████████████████▎                                             | 42/98 [48:07<1:05:24, 70.08s/it]"
     ]
    },
    {
     "name": "stdout",
     "output_type": "stream",
     "text": [
      "32/32 [==============================] - 1s 25ms/step\n"
     ]
    },
    {
     "name": "stderr",
     "output_type": "stream",
     "text": [
      "\r",
      " 44%|███████████████████████████████████                                             | 43/98 [49:19<1:04:38, 70.51s/it]"
     ]
    },
    {
     "name": "stdout",
     "output_type": "stream",
     "text": [
      "32/32 [==============================] - 1s 26ms/step\n"
     ]
    },
    {
     "name": "stderr",
     "output_type": "stream",
     "text": [
      "\r",
      " 45%|███████████████████████████████████▉                                            | 44/98 [50:30<1:03:29, 70.56s/it]"
     ]
    },
    {
     "name": "stdout",
     "output_type": "stream",
     "text": [
      "32/32 [==============================] - 1s 25ms/step\n"
     ]
    },
    {
     "name": "stderr",
     "output_type": "stream",
     "text": [
      "\r",
      " 46%|████████████████████████████████████▋                                           | 45/98 [51:41<1:02:35, 70.85s/it]"
     ]
    },
    {
     "name": "stdout",
     "output_type": "stream",
     "text": [
      "32/32 [==============================] - 1s 28ms/step\n"
     ]
    },
    {
     "name": "stderr",
     "output_type": "stream",
     "text": [
      "\r",
      " 47%|█████████████████████████████████████▌                                          | 46/98 [52:58<1:02:51, 72.52s/it]"
     ]
    },
    {
     "name": "stdout",
     "output_type": "stream",
     "text": [
      "32/32 [==============================] - 1s 37ms/step\n"
     ]
    },
    {
     "name": "stderr",
     "output_type": "stream",
     "text": [
      "\r",
      " 48%|██████████████████████████████████████▎                                         | 47/98 [54:20<1:04:03, 75.37s/it]"
     ]
    },
    {
     "name": "stdout",
     "output_type": "stream",
     "text": [
      "32/32 [==============================] - 1s 36ms/step\n"
     ]
    },
    {
     "name": "stderr",
     "output_type": "stream",
     "text": [
      "\r",
      " 49%|███████████████████████████████████████▏                                        | 48/98 [55:42<1:04:28, 77.36s/it]"
     ]
    },
    {
     "name": "stdout",
     "output_type": "stream",
     "text": [
      "32/32 [==============================] - 1s 27ms/step\n"
     ]
    },
    {
     "name": "stderr",
     "output_type": "stream",
     "text": [
      "\r",
      " 50%|████████████████████████████████████████                                        | 49/98 [56:52<1:01:29, 75.30s/it]"
     ]
    },
    {
     "name": "stdout",
     "output_type": "stream",
     "text": [
      "32/32 [==============================] - 1s 27ms/step\n"
     ]
    },
    {
     "name": "stderr",
     "output_type": "stream",
     "text": [
      "\r",
      " 51%|█████████████████████████████████████████▊                                        | 50/98 [58:03<59:10, 73.96s/it]"
     ]
    },
    {
     "name": "stdout",
     "output_type": "stream",
     "text": [
      "32/32 [==============================] - 1s 30ms/step\n"
     ]
    },
    {
     "name": "stderr",
     "output_type": "stream",
     "text": [
      "\r",
      " 52%|██████████████████████████████████████████▋                                       | 51/98 [59:12<56:50, 72.57s/it]"
     ]
    },
    {
     "name": "stdout",
     "output_type": "stream",
     "text": [
      "32/32 [==============================] - 1s 27ms/step\n"
     ]
    },
    {
     "name": "stderr",
     "output_type": "stream",
     "text": [
      "\r",
      " 53%|██████████████████████████████████████████▍                                     | 52/98 [1:00:19<54:24, 70.97s/it]"
     ]
    },
    {
     "name": "stdout",
     "output_type": "stream",
     "text": [
      "32/32 [==============================] - 1s 27ms/step\n"
     ]
    },
    {
     "name": "stderr",
     "output_type": "stream",
     "text": [
      "\r",
      " 54%|███████████████████████████████████████████▎                                    | 53/98 [1:01:27<52:34, 70.10s/it]"
     ]
    },
    {
     "name": "stdout",
     "output_type": "stream",
     "text": [
      "32/32 [==============================] - 1s 24ms/step\n"
     ]
    },
    {
     "name": "stderr",
     "output_type": "stream",
     "text": [
      "\r",
      " 55%|████████████████████████████████████████████                                    | 54/98 [1:02:36<51:03, 69.62s/it]"
     ]
    },
    {
     "name": "stdout",
     "output_type": "stream",
     "text": [
      "32/32 [==============================] - 1s 25ms/step\n"
     ]
    },
    {
     "name": "stderr",
     "output_type": "stream",
     "text": [
      "\r",
      " 56%|████████████████████████████████████████████▉                                   | 55/98 [1:03:43<49:23, 68.92s/it]"
     ]
    },
    {
     "name": "stdout",
     "output_type": "stream",
     "text": [
      "32/32 [==============================] - 1s 25ms/step\n"
     ]
    },
    {
     "name": "stderr",
     "output_type": "stream",
     "text": [
      "\r",
      " 57%|█████████████████████████████████████████████▋                                  | 56/98 [1:04:50<47:52, 68.40s/it]"
     ]
    },
    {
     "name": "stdout",
     "output_type": "stream",
     "text": [
      "32/32 [==============================] - 1s 24ms/step\n"
     ]
    },
    {
     "name": "stderr",
     "output_type": "stream",
     "text": [
      "\r",
      " 58%|██████████████████████████████████████████████▌                                 | 57/98 [1:06:03<47:30, 69.51s/it]"
     ]
    },
    {
     "name": "stdout",
     "output_type": "stream",
     "text": [
      "32/32 [==============================] - 1s 29ms/step\n"
     ]
    },
    {
     "name": "stderr",
     "output_type": "stream",
     "text": [
      "\r",
      " 59%|███████████████████████████████████████████████▎                                | 58/98 [1:07:21<48:07, 72.18s/it]"
     ]
    },
    {
     "name": "stdout",
     "output_type": "stream",
     "text": [
      "32/32 [==============================] - 1s 25ms/step\n"
     ]
    },
    {
     "name": "stderr",
     "output_type": "stream",
     "text": [
      "\r",
      " 60%|████████████████████████████████████████████████▏                               | 59/98 [1:08:35<47:12, 72.62s/it]"
     ]
    },
    {
     "name": "stdout",
     "output_type": "stream",
     "text": [
      "32/32 [==============================] - 1s 36ms/step\n"
     ]
    },
    {
     "name": "stderr",
     "output_type": "stream",
     "text": [
      "\r",
      " 61%|████████████████████████████████████████████████▉                               | 60/98 [1:09:47<45:57, 72.56s/it]"
     ]
    },
    {
     "name": "stdout",
     "output_type": "stream",
     "text": [
      "32/32 [==============================] - 1s 25ms/step\n"
     ]
    },
    {
     "name": "stderr",
     "output_type": "stream",
     "text": [
      "\r",
      " 62%|█████████████████████████████████████████████████▊                              | 61/98 [1:11:01<44:58, 72.92s/it]"
     ]
    },
    {
     "name": "stdout",
     "output_type": "stream",
     "text": [
      "32/32 [==============================] - 1s 30ms/step\n"
     ]
    },
    {
     "name": "stderr",
     "output_type": "stream",
     "text": [
      "\r",
      " 63%|██████████████████████████████████████████████████▌                             | 62/98 [1:12:15<43:56, 73.25s/it]"
     ]
    },
    {
     "name": "stdout",
     "output_type": "stream",
     "text": [
      "32/32 [==============================] - 2s 64ms/step\n"
     ]
    },
    {
     "name": "stderr",
     "output_type": "stream",
     "text": [
      "\r",
      " 64%|███████████████████████████████████████████████████▍                            | 63/98 [1:13:35<43:56, 75.32s/it]"
     ]
    },
    {
     "name": "stdout",
     "output_type": "stream",
     "text": [
      "32/32 [==============================] - 1s 42ms/step\n"
     ]
    },
    {
     "name": "stderr",
     "output_type": "stream",
     "text": [
      "\r",
      " 65%|████████████████████████████████████████████████████▏                           | 64/98 [1:14:47<42:03, 74.21s/it]"
     ]
    },
    {
     "name": "stdout",
     "output_type": "stream",
     "text": [
      "32/32 [==============================] - 1s 24ms/step\n"
     ]
    },
    {
     "name": "stderr",
     "output_type": "stream",
     "text": [
      "\r",
      " 66%|█████████████████████████████████████████████████████                           | 65/98 [1:15:58<40:19, 73.31s/it]"
     ]
    },
    {
     "name": "stdout",
     "output_type": "stream",
     "text": [
      "32/32 [==============================] - 1s 34ms/step\n"
     ]
    },
    {
     "name": "stderr",
     "output_type": "stream",
     "text": [
      "\r",
      " 67%|█████████████████████████████████████████████████████▉                          | 66/98 [1:17:07<38:26, 72.07s/it]"
     ]
    },
    {
     "name": "stdout",
     "output_type": "stream",
     "text": [
      "32/32 [==============================] - 1s 26ms/step\n"
     ]
    },
    {
     "name": "stderr",
     "output_type": "stream",
     "text": [
      "\r",
      " 68%|██████████████████████████████████████████████████████▋                         | 67/98 [1:18:16<36:48, 71.25s/it]"
     ]
    },
    {
     "name": "stdout",
     "output_type": "stream",
     "text": [
      "32/32 [==============================] - 1s 25ms/step\n"
     ]
    },
    {
     "name": "stderr",
     "output_type": "stream",
     "text": [
      "\r",
      " 69%|███████████████████████████████████████████████████████▌                        | 68/98 [1:19:25<35:15, 70.53s/it]"
     ]
    },
    {
     "name": "stdout",
     "output_type": "stream",
     "text": [
      "32/32 [==============================] - 1s 27ms/step\n"
     ]
    },
    {
     "name": "stderr",
     "output_type": "stream",
     "text": [
      "\r",
      " 70%|████████████████████████████████████████████████████████▎                       | 69/98 [1:20:34<33:53, 70.13s/it]"
     ]
    },
    {
     "name": "stdout",
     "output_type": "stream",
     "text": [
      "32/32 [==============================] - 1s 26ms/step\n"
     ]
    },
    {
     "name": "stderr",
     "output_type": "stream",
     "text": [
      "\r",
      " 71%|█████████████████████████████████████████████████████████▏                      | 70/98 [1:21:42<32:25, 69.49s/it]"
     ]
    },
    {
     "name": "stdout",
     "output_type": "stream",
     "text": [
      "32/32 [==============================] - 1s 25ms/step\n"
     ]
    },
    {
     "name": "stderr",
     "output_type": "stream",
     "text": [
      "\r",
      " 72%|█████████████████████████████████████████████████████████▉                      | 71/98 [1:22:50<31:03, 69.01s/it]"
     ]
    },
    {
     "name": "stdout",
     "output_type": "stream",
     "text": [
      "32/32 [==============================] - 1s 28ms/step\n"
     ]
    },
    {
     "name": "stderr",
     "output_type": "stream",
     "text": [
      "\r",
      " 73%|██████████████████████████████████████████████████████████▊                     | 72/98 [1:24:00<30:00, 69.23s/it]"
     ]
    },
    {
     "name": "stdout",
     "output_type": "stream",
     "text": [
      "32/32 [==============================] - 1s 28ms/step\n"
     ]
    },
    {
     "name": "stderr",
     "output_type": "stream",
     "text": [
      "\r",
      " 74%|███████████████████████████████████████████████████████████▌                    | 73/98 [1:25:11<29:02, 69.72s/it]"
     ]
    },
    {
     "name": "stdout",
     "output_type": "stream",
     "text": [
      "32/32 [==============================] - 1s 28ms/step\n"
     ]
    },
    {
     "name": "stderr",
     "output_type": "stream",
     "text": [
      "\r",
      " 76%|████████████████████████████████████████████████████████████▍                   | 74/98 [1:26:21<27:52, 69.70s/it]"
     ]
    },
    {
     "name": "stdout",
     "output_type": "stream",
     "text": [
      "32/32 [==============================] - 1s 28ms/step\n"
     ]
    },
    {
     "name": "stderr",
     "output_type": "stream",
     "text": [
      "\r",
      " 77%|█████████████████████████████████████████████████████████████▏                  | 75/98 [1:27:32<26:56, 70.28s/it]"
     ]
    },
    {
     "name": "stdout",
     "output_type": "stream",
     "text": [
      "32/32 [==============================] - 1s 28ms/step\n"
     ]
    },
    {
     "name": "stderr",
     "output_type": "stream",
     "text": [
      "\r",
      " 78%|██████████████████████████████████████████████████████████████                  | 76/98 [1:28:42<25:45, 70.25s/it]"
     ]
    },
    {
     "name": "stdout",
     "output_type": "stream",
     "text": [
      "32/32 [==============================] - 1s 26ms/step\n"
     ]
    },
    {
     "name": "stderr",
     "output_type": "stream",
     "text": [
      "\r",
      " 79%|██████████████████████████████████████████████████████████████▊                 | 77/98 [1:29:51<24:27, 69.86s/it]"
     ]
    },
    {
     "name": "stdout",
     "output_type": "stream",
     "text": [
      "32/32 [==============================] - 1s 30ms/step\n"
     ]
    },
    {
     "name": "stderr",
     "output_type": "stream",
     "text": [
      "\r",
      " 80%|███████████████████████████████████████████████████████████████▋                | 78/98 [1:31:02<23:25, 70.26s/it]"
     ]
    },
    {
     "name": "stdout",
     "output_type": "stream",
     "text": [
      "32/32 [==============================] - 1s 25ms/step\n"
     ]
    },
    {
     "name": "stderr",
     "output_type": "stream",
     "text": [
      "\r",
      " 81%|████████████████████████████████████████████████████████████████▍               | 79/98 [1:32:12<22:12, 70.12s/it]"
     ]
    },
    {
     "name": "stdout",
     "output_type": "stream",
     "text": [
      "32/32 [==============================] - 1s 28ms/step\n"
     ]
    },
    {
     "name": "stderr",
     "output_type": "stream",
     "text": [
      "\r",
      " 82%|█████████████████████████████████████████████████████████████████▎              | 80/98 [1:33:23<21:04, 70.25s/it]"
     ]
    },
    {
     "name": "stdout",
     "output_type": "stream",
     "text": [
      "32/32 [==============================] - 1s 25ms/step\n"
     ]
    },
    {
     "name": "stderr",
     "output_type": "stream",
     "text": [
      "\r",
      " 83%|██████████████████████████████████████████████████████████████████              | 81/98 [1:34:32<19:48, 69.92s/it]"
     ]
    },
    {
     "name": "stdout",
     "output_type": "stream",
     "text": [
      "32/32 [==============================] - 1s 27ms/step\n"
     ]
    },
    {
     "name": "stderr",
     "output_type": "stream",
     "text": [
      "\r",
      " 84%|██████████████████████████████████████████████████████████████████▉             | 82/98 [1:35:42<18:39, 70.00s/it]"
     ]
    },
    {
     "name": "stdout",
     "output_type": "stream",
     "text": [
      "32/32 [==============================] - 1s 28ms/step\n"
     ]
    },
    {
     "name": "stderr",
     "output_type": "stream",
     "text": [
      "\r",
      " 85%|███████████████████████████████████████████████████████████████████▊            | 83/98 [1:36:51<17:25, 69.68s/it]"
     ]
    },
    {
     "name": "stdout",
     "output_type": "stream",
     "text": [
      "32/32 [==============================] - 1s 25ms/step\n"
     ]
    },
    {
     "name": "stderr",
     "output_type": "stream",
     "text": [
      "\r",
      " 86%|████████████████████████████████████████████████████████████████████▌           | 84/98 [1:38:01<16:18, 69.89s/it]"
     ]
    },
    {
     "name": "stdout",
     "output_type": "stream",
     "text": [
      "32/32 [==============================] - 1s 25ms/step\n"
     ]
    },
    {
     "name": "stderr",
     "output_type": "stream",
     "text": [
      "\r",
      " 87%|█████████████████████████████████████████████████████████████████████▍          | 85/98 [1:39:23<15:52, 73.26s/it]"
     ]
    },
    {
     "name": "stdout",
     "output_type": "stream",
     "text": [
      "32/32 [==============================] - 1s 28ms/step\n"
     ]
    },
    {
     "name": "stderr",
     "output_type": "stream",
     "text": [
      "\r",
      " 88%|██████████████████████████████████████████████████████████████████████▏         | 86/98 [1:40:33<14:28, 72.41s/it]"
     ]
    },
    {
     "name": "stdout",
     "output_type": "stream",
     "text": [
      "32/32 [==============================] - 1s 24ms/step\n"
     ]
    },
    {
     "name": "stderr",
     "output_type": "stream",
     "text": [
      "\r",
      " 89%|███████████████████████████████████████████████████████████████████████         | 87/98 [1:41:42<13:03, 71.26s/it]"
     ]
    },
    {
     "name": "stdout",
     "output_type": "stream",
     "text": [
      "32/32 [==============================] - 1s 25ms/step\n"
     ]
    },
    {
     "name": "stderr",
     "output_type": "stream",
     "text": [
      "\r",
      " 90%|███████████████████████████████████████████████████████████████████████▊        | 88/98 [1:42:50<11:43, 70.33s/it]"
     ]
    },
    {
     "name": "stdout",
     "output_type": "stream",
     "text": [
      "32/32 [==============================] - 1s 25ms/step\n"
     ]
    },
    {
     "name": "stderr",
     "output_type": "stream",
     "text": [
      "\r",
      " 91%|████████████████████████████████████████████████████████████████████████▋       | 89/98 [1:44:00<10:32, 70.24s/it]"
     ]
    },
    {
     "name": "stdout",
     "output_type": "stream",
     "text": [
      "32/32 [==============================] - 1s 24ms/step\n"
     ]
    },
    {
     "name": "stderr",
     "output_type": "stream",
     "text": [
      "\r",
      " 92%|█████████████████████████████████████████████████████████████████████████▍      | 90/98 [1:45:10<09:20, 70.12s/it]"
     ]
    },
    {
     "name": "stdout",
     "output_type": "stream",
     "text": [
      "32/32 [==============================] - 1s 27ms/step\n"
     ]
    },
    {
     "name": "stderr",
     "output_type": "stream",
     "text": [
      "\r",
      " 93%|██████████████████████████████████████████████████████████████████████████▎     | 91/98 [1:46:19<08:09, 69.88s/it]"
     ]
    },
    {
     "name": "stdout",
     "output_type": "stream",
     "text": [
      "32/32 [==============================] - 1s 24ms/step\n"
     ]
    },
    {
     "name": "stderr",
     "output_type": "stream",
     "text": [
      "\r",
      " 94%|███████████████████████████████████████████████████████████████████████████     | 92/98 [1:47:32<07:04, 70.77s/it]"
     ]
    },
    {
     "name": "stdout",
     "output_type": "stream",
     "text": [
      "32/32 [==============================] - 1s 26ms/step\n"
     ]
    },
    {
     "name": "stderr",
     "output_type": "stream",
     "text": [
      "\r",
      " 95%|███████████████████████████████████████████████████████████████████████████▉    | 93/98 [1:48:42<05:53, 70.66s/it]"
     ]
    },
    {
     "name": "stdout",
     "output_type": "stream",
     "text": [
      "32/32 [==============================] - 1s 27ms/step\n"
     ]
    },
    {
     "name": "stderr",
     "output_type": "stream",
     "text": [
      "\r",
      " 96%|████████████████████████████████████████████████████████████████████████████▋   | 94/98 [1:49:53<04:42, 70.57s/it]"
     ]
    },
    {
     "name": "stdout",
     "output_type": "stream",
     "text": [
      "32/32 [==============================] - 1s 25ms/step\n"
     ]
    },
    {
     "name": "stderr",
     "output_type": "stream",
     "text": [
      "\r",
      " 97%|█████████████████████████████████████████████████████████████████████████████▌  | 95/98 [1:51:00<03:28, 69.56s/it]"
     ]
    },
    {
     "name": "stdout",
     "output_type": "stream",
     "text": [
      "32/32 [==============================] - 1s 25ms/step\n"
     ]
    },
    {
     "name": "stderr",
     "output_type": "stream",
     "text": [
      "\r",
      " 98%|██████████████████████████████████████████████████████████████████████████████▎ | 96/98 [1:52:10<02:19, 69.76s/it]"
     ]
    },
    {
     "name": "stdout",
     "output_type": "stream",
     "text": [
      "32/32 [==============================] - 1s 25ms/step\n"
     ]
    },
    {
     "name": "stderr",
     "output_type": "stream",
     "text": [
      "\r",
      " 99%|███████████████████████████████████████████████████████████████████████████████▏| 97/98 [1:53:17<01:08, 68.94s/it]"
     ]
    },
    {
     "name": "stdout",
     "output_type": "stream",
     "text": [
      "21/21 [==============================] - 1s 25ms/step\n"
     ]
    },
    {
     "name": "stderr",
     "output_type": "stream",
     "text": [
      "100%|████████████████████████████████████████████████████████████████████████████████| 98/98 [1:54:05<00:00, 69.85s/it]\n"
     ]
    },
    {
     "data": {
      "image/png": "[encoded data removed]",
      "text/plain": [
       "<Figure size 432x288 with 1 Axes>"
      ]
     },
     "metadata": {
      "needs_background": "light"
     },
     "output_type": "display_data"
    }
   ],
   "source": [
    "#Prediction using ranking\n",
    "\n",
    "rank_of_secret_key = []\n",
    "\n",
    "batch_size = 1024\n",
    "attack_dataset = tf.data.Dataset.from_tensor_slices((test_plaintexts, test_traces))\n",
    "attack_dataset = attack_dataset.batch(batch_size)\n",
    "\n",
    "key_probabilities = np.zeros(256)\n",
    "print(len(attack_dataset))\n",
    "for pt, trace in tqdm(attack_dataset, total=len(attack_dataset)):\n",
    "    # Extract the points of interest\n",
    "    #feature_vector = trace[poi_indices]\n",
    "    trace = trace[:,:,np.newaxis]\n",
    "    feature_vector = full_model.predict(trace)\n",
    "    \n",
    "    for i in range(feature_vector.shape[0]):\n",
    "        # Compute the probabilities for each label\n",
    "        label_probabilities = {label: feature_vector[i,label] for label in range(256)}\n",
    "\n",
    "        # Update the key probabilities\n",
    "        for k in range(256):\n",
    "            key_probabilities[k] += label_probabilities[LEAKAGE_MODEL(pt[i], k)]\n",
    "\n",
    "        # Get the rank of the secret key\n",
    "        rank_of_secret_key.append(np.count_nonzero(key_probabilities > key_probabilities[SECRET_KEY]))\n",
    "        \n",
    "    #print(feature_vector.shape, feature_vector)\n",
    "    #key_probabilities = np.concatenate((key_probabilities, feature_vector[np.newaxis,:]), axis = 0)\n",
    "    #rank = np.argsort(np.mean(key_probabilities, axis = 0))\n",
    "    #index_key = np.where(rank == SECRET_KEY)\n",
    "    #print(index_key)\n",
    "    #rank_of_secret_key.append(index_key)\n",
    "\n",
    "plt.plot(rank_of_secret_key)\n",
    "plt.title(f\"Rank of the secret key ({SECRET_KEY:#04x})\")\n",
    "plt.show()"
   ]
  },
  {
   "cell_type": "code",
   "execution_count": 27,
   "metadata": {},
   "outputs": [
    {
     "name": "stdout",
     "output_type": "stream",
     "text": [
      "(array([95925, 95926, 95927, ..., 99997, 99998, 99999], dtype=int64),)\n"
     ]
    }
   ],
   "source": [
    "first = np.where(np.array(rank_of_secret_key) == 0)\n",
    "print(first)"
   ]
  },
  {
   "cell_type": "code",
   "execution_count": 46,
   "metadata": {},
   "outputs": [
    {
     "name": "stdout",
     "output_type": "stream",
     "text": [
      "95925\n"
     ]
    },
    {
     "data": {
      "text/plain": [
       "<matplotlib.collections.PathCollection at 0x2bde0c10580>"
      ]
     },
     "execution_count": 46,
     "metadata": {},
     "output_type": "execute_result"
    },
    {
     "data": {
      "image/png": "[encoded data removed]",
      "text/plain": [
       "<Figure size 432x288 with 1 Axes>"
      ]
     },
     "metadata": {
      "needs_background": "light"
     },
     "output_type": "display_data"
    }
   ],
   "source": [
    "print(first[0][0])\n",
    "plt.plot(rank_of_secret_key)\n",
    "plt.ylabel(\"Rank of true key\")\n",
    "plt.xlabel(\"Number of traces\")\n",
    "plt.title(\"Simple model MLP\")\n",
    "plt.scatter(first[0][0],rank_of_secret_key[first[0][0]], c=\"red\")"
   ]
  }
 ],
 "metadata": {
  "colab": {
   "provenance": []
  },
  "kernelspec": {
   "display_name": "Python 3 (ipykernel)",
   "language": "python",
   "name": "python3"
  },
  "language_info": {
   "codemirror_mode": {
    "name": "ipython",
    "version": 3
   },
   "file_extension": ".py",
   "mimetype": "text/x-python",
   "name": "python",
   "nbconvert_exporter": "python",
   "pygments_lexer": "ipython3",
   "version": "3.9.7"
  }
 },
 "nbformat": 4,
 "nbformat_minor": 1
}
